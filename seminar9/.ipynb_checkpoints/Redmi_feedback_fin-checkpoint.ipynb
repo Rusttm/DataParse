{
 "cells": [
  {
   "cell_type": "markdown",
   "id": "26c9162d-e3a6-4fb9-bd24-8e291ac4cdb8",
   "metadata": {},
   "source": [
    "### Задание 1.\n",
    "\n",
    "Выберите датасет, который имеет отношение к вашей области интересов или исследований. Датасет должен содержать неструктурированные данные, требующие разметки для решения конкретной задачи, например, анализа настроений или распознавания именованных сущностей."
   ]
  },
  {
   "cell_type": "markdown",
   "id": "c4f899b1-a154-4cb0-9dce-fe0aa588c2fc",
   "metadata": {},
   "source": [
    "data from https://www.kaggle.com/datasets/parve05/customer-review-dataset\n",
    "\n",
    "**Отзывы о модели телефона Redmi6**\n",
    "\n",
    "#### Для нас важно: есть колонка отзыва на английском языке (Comments) и колонка оценки от 1 до 5 (Rating)\n",
    "#### Построим модель предсказания (положительный/отрицательный отзыв) на основе текста комментария"
   ]
  },
  {
   "cell_type": "code",
   "execution_count": 318,
   "id": "e1724df0-e102-4673-913d-e20458fb29a0",
   "metadata": {},
   "outputs": [],
   "source": [
    "import pandas as pd\n",
    "df = pd.read_csv(\"data/redmi6.csv\", encoding='latin1')"
   ]
  },
  {
   "cell_type": "code",
   "execution_count": 319,
   "id": "10c0ad13-762e-4815-b273-acb9d7e92b0c",
   "metadata": {},
   "outputs": [
    {
     "data": {
      "text/html": [
       "<div>\n",
       "<style scoped>\n",
       "    .dataframe tbody tr th:only-of-type {\n",
       "        vertical-align: middle;\n",
       "    }\n",
       "\n",
       "    .dataframe tbody tr th {\n",
       "        vertical-align: top;\n",
       "    }\n",
       "\n",
       "    .dataframe thead th {\n",
       "        text-align: right;\n",
       "    }\n",
       "</style>\n",
       "<table border=\"1\" class=\"dataframe\">\n",
       "  <thead>\n",
       "    <tr style=\"text-align: right;\">\n",
       "      <th></th>\n",
       "      <th>Review Title</th>\n",
       "      <th>Customer name</th>\n",
       "      <th>Rating</th>\n",
       "      <th>Date</th>\n",
       "      <th>Category</th>\n",
       "      <th>Comments</th>\n",
       "      <th>Useful</th>\n",
       "    </tr>\n",
       "  </thead>\n",
       "  <tbody>\n",
       "    <tr>\n",
       "      <th>0</th>\n",
       "      <td>Another Midrange killer Smartphone by Xiaomi</td>\n",
       "      <td>Rishikumar Thakur</td>\n",
       "      <td>4.0 out of 5 stars</td>\n",
       "      <td>on 1 October 2018</td>\n",
       "      <td>Display</td>\n",
       "      <td>Another Midrange killer Smartphone by Xiaomi\\n...</td>\n",
       "      <td></td>\n",
       "    </tr>\n",
       "    <tr>\n",
       "      <th>1</th>\n",
       "      <td>vry small size mobile</td>\n",
       "      <td>Raza ji</td>\n",
       "      <td>3.0 out of 5 stars</td>\n",
       "      <td>on 15 September 2018</td>\n",
       "      <td>Others</td>\n",
       "      <td>All ok but vry small size mobile</td>\n",
       "      <td>7 people found this helpful</td>\n",
       "    </tr>\n",
       "    <tr>\n",
       "      <th>2</th>\n",
       "      <td>Full display not working in all application.</td>\n",
       "      <td>Vaibhav Patel</td>\n",
       "      <td>3.0 out of 5 stars</td>\n",
       "      <td>on 18 September 2018</td>\n",
       "      <td>Others</td>\n",
       "      <td>Quite good</td>\n",
       "      <td>7 people found this helpful</td>\n",
       "    </tr>\n",
       "  </tbody>\n",
       "</table>\n",
       "</div>"
      ],
      "text/plain": [
       "                                   Review Title      Customer name  \\\n",
       "0  Another Midrange killer Smartphone by Xiaomi  Rishikumar Thakur   \n",
       "1                         vry small size mobile            Raza ji   \n",
       "2  Full display not working in all application.      Vaibhav Patel   \n",
       "\n",
       "               Rating                  Date Category  \\\n",
       "0  4.0 out of 5 stars     on 1 October 2018  Display   \n",
       "1  3.0 out of 5 stars  on 15 September 2018   Others   \n",
       "2  3.0 out of 5 stars  on 18 September 2018   Others   \n",
       "\n",
       "                                            Comments  \\\n",
       "0  Another Midrange killer Smartphone by Xiaomi\\n...   \n",
       "1                   All ok but vry small size mobile   \n",
       "2                                         Quite good   \n",
       "\n",
       "                        Useful  \n",
       "0                               \n",
       "1  7 people found this helpful  \n",
       "2  7 people found this helpful  "
      ]
     },
     "execution_count": 319,
     "metadata": {},
     "output_type": "execute_result"
    }
   ],
   "source": [
    "df.head(3)"
   ]
  },
  {
   "cell_type": "code",
   "execution_count": 320,
   "id": "6aaa5f80-694d-44cc-a339-e33adebe994c",
   "metadata": {},
   "outputs": [],
   "source": [
    "# будем работать только с полями Comments и Rating\n",
    "df = df[['Rating', 'Comments']].reset_index(drop=True)"
   ]
  },
  {
   "cell_type": "code",
   "execution_count": 321,
   "id": "371e2eb0-4db4-4fdb-922b-944165800d82",
   "metadata": {},
   "outputs": [
    {
     "data": {
      "text/plain": [
       "59"
      ]
     },
     "execution_count": 321,
     "metadata": {},
     "output_type": "execute_result"
    }
   ],
   "source": [
    "df.duplicated().sum()"
   ]
  },
  {
   "cell_type": "code",
   "execution_count": 322,
   "id": "d5da3d08-9139-4579-802d-61e2b0ea0777",
   "metadata": {},
   "outputs": [],
   "source": [
    "# избавимся от дубликатов\n",
    "df.drop_duplicates(inplace=True)"
   ]
  },
  {
   "cell_type": "code",
   "execution_count": 1,
   "id": "42d9ab4a-3bb3-4a5b-adc6-aaab06716663",
   "metadata": {},
   "outputs": [
    {
     "ename": "NameError",
     "evalue": "name 'df' is not defined",
     "output_type": "error",
     "traceback": [
      "\u001b[0;31m---------------------------------------------------------------------------\u001b[0m",
      "\u001b[0;31mNameError\u001b[0m                                 Traceback (most recent call last)",
      "Cell \u001b[0;32mIn[1], line 2\u001b[0m\n\u001b[1;32m      1\u001b[0m \u001b[38;5;66;03m# проверим поле коментариев\u001b[39;00m\n\u001b[0;32m----> 2\u001b[0m \u001b[43mdf\u001b[49m[\u001b[38;5;124m\"\u001b[39m\u001b[38;5;124mComments\u001b[39m\u001b[38;5;124m\"\u001b[39m]\u001b[38;5;241m.\u001b[39mdescribe()\n",
      "\u001b[0;31mNameError\u001b[0m: name 'df' is not defined"
     ]
    }
   ],
   "source": [
    "# проверим поле коментариев\n",
    "df[\"Comments\"].describe()"
   ]
  },
  {
   "cell_type": "markdown",
   "id": "259f9e35-2407-4719-b820-eebe6e49d87d",
   "metadata": {},
   "source": [
    "#### разобьем данные на автоматическую разметку/ручную разметку"
   ]
  },
  {
   "cell_type": "code",
   "execution_count": 291,
   "id": "9130ff46-7794-45cc-b08c-fa0513cdc718",
   "metadata": {},
   "outputs": [],
   "source": [
    "from sklearn.model_selection import train_test_split\n",
    "\n",
    "\n",
    "df_train_auto, df_train_hand = train_test_split(df, test_size=0.02)\n"
   ]
  },
  {
   "cell_type": "code",
   "execution_count": 292,
   "id": "1a7338d9-843e-4233-8d13-f11ee91bb501",
   "metadata": {},
   "outputs": [
    {
     "name": "stdout",
     "output_type": "stream",
     "text": [
      "df_train_auto.size=432/df_train_hand.size=10\n"
     ]
    }
   ],
   "source": [
    "print(f\"{df_train_auto.size=}/{df_train_hand.size=}\")"
   ]
  },
  {
   "cell_type": "markdown",
   "id": "d76adc82-8aeb-4f5d-bdd1-032e3c2748bd",
   "metadata": {},
   "source": [
    "### Задание 2.\n",
    "\n",
    "Выполните разметку на основе правил (rule-based labeling) на подмножестве выбранного датасета. Разработайте и реализуйте набор правил или условий, которые позволят автоматически присваивать метки данным на основе определенных шаблонов или критериев. "
   ]
  },
  {
   "cell_type": "markdown",
   "id": "3ee9c44f-d6fb-41a8-ad06-6caef48b8210",
   "metadata": {},
   "source": [
    "#### так как мы имеем столбец, в котором указан рейтинг, то можем **АВТОМАТИЧЕСКИ** разметить данные"
   ]
  },
  {
   "cell_type": "code",
   "execution_count": 293,
   "id": "335e3880-61b4-433e-ba8d-8b1687dbe060",
   "metadata": {},
   "outputs": [],
   "source": [
    "\n",
    "def sentiment_feedback(value: str):\n",
    "    if value == \"5.0 out of 5 stars\":\n",
    "        return 1\n",
    "    elif value == \"4.0 out of 5 stars\":\n",
    "        return 1\n",
    "    elif value == \"3.0 out of 5 stars\":\n",
    "        return 0\n",
    "    elif value == \"2.0 out of 5 stars\":\n",
    "        return 0\n",
    "    elif value == \"1.0 out of 5 stars\":\n",
    "        return 0\n",
    "    else:\n",
    "        return 0\n",
    "    \n",
    "\n",
    "df_train_auto[\"result\"] = df_train_auto[\"Rating\"].apply(sentiment_feedback)"
   ]
  },
  {
   "cell_type": "code",
   "execution_count": 294,
   "id": "bc0fc22f-3bd9-4a5f-ad4b-afd91d706ab1",
   "metadata": {},
   "outputs": [
    {
     "data": {
      "text/plain": [
       "count                    221\n",
       "unique                     5\n",
       "top       5.0 out of 5 stars\n",
       "freq                     120\n",
       "Name: Rating, dtype: object"
      ]
     },
     "execution_count": 294,
     "metadata": {},
     "output_type": "execute_result"
    }
   ],
   "source": [
    "df[\"Rating\"].describe()"
   ]
  },
  {
   "cell_type": "code",
   "execution_count": 295,
   "id": "d069ba92-eb83-4407-8700-c1576dea6cc8",
   "metadata": {},
   "outputs": [
    {
     "data": {
      "text/html": [
       "<div>\n",
       "<style scoped>\n",
       "    .dataframe tbody tr th:only-of-type {\n",
       "        vertical-align: middle;\n",
       "    }\n",
       "\n",
       "    .dataframe tbody tr th {\n",
       "        vertical-align: top;\n",
       "    }\n",
       "\n",
       "    .dataframe thead th {\n",
       "        text-align: right;\n",
       "    }\n",
       "</style>\n",
       "<table border=\"1\" class=\"dataframe\">\n",
       "  <thead>\n",
       "    <tr style=\"text-align: right;\">\n",
       "      <th></th>\n",
       "      <th>Rating</th>\n",
       "      <th>Comments</th>\n",
       "      <th>result</th>\n",
       "    </tr>\n",
       "  </thead>\n",
       "  <tbody>\n",
       "  </tbody>\n",
       "</table>\n",
       "</div>"
      ],
      "text/plain": [
       "Empty DataFrame\n",
       "Columns: [Rating, Comments, result]\n",
       "Index: []"
      ]
     },
     "execution_count": 295,
     "metadata": {},
     "output_type": "execute_result"
    }
   ],
   "source": [
    "# проверим, есть ли неразмеченные данные:\n",
    "df_train_auto[df_train_auto[\"result\"]==\"unknown\"]"
   ]
  },
  {
   "cell_type": "code",
   "execution_count": 296,
   "id": "370b0ea6-9a37-4654-9352-7270059684c1",
   "metadata": {},
   "outputs": [
    {
     "name": "stdout",
     "output_type": "stream",
     "text": [
      "<class 'pandas.core.frame.DataFrame'>\n",
      "Index: 216 entries, 237 to 259\n",
      "Data columns (total 3 columns):\n",
      " #   Column    Non-Null Count  Dtype \n",
      "---  ------    --------------  ----- \n",
      " 0   Rating    216 non-null    object\n",
      " 1   Comments  216 non-null    object\n",
      " 2   result    216 non-null    int64 \n",
      "dtypes: int64(1), object(2)\n",
      "memory usage: 6.8+ KB\n"
     ]
    }
   ],
   "source": [
    "df_train_auto.info()"
   ]
  },
  {
   "cell_type": "markdown",
   "id": "64b11f9d-c847-4d40-b22a-c9b1fb0316f9",
   "metadata": {},
   "source": [
    "### Задача 3.\n",
    "    \n",
    "Выполните разметку вручную отдельного подмножества выбранного датасета с помощью выбранного вами инструмента разметки."
   ]
  },
  {
   "cell_type": "code",
   "execution_count": 297,
   "id": "2c535a84-c007-4b80-bd00-56115834a2a8",
   "metadata": {},
   "outputs": [],
   "source": [
    "df_train_hand.to_csv(\"data/train_hand.csv\", index=False)"
   ]
  },
  {
   "cell_type": "code",
   "execution_count": 298,
   "id": "8b52e757-8765-4a47-ba97-4807f3ca6abe",
   "metadata": {},
   "outputs": [],
   "source": [
    "# считываем размеченные вручную данные\n",
    "df_labeled_hand = pd.read_csv(\"data/hand_labeled_v2.csv\", encoding='latin1')"
   ]
  },
  {
   "cell_type": "code",
   "execution_count": 299,
   "id": "2a05b179-e86e-4ada-a1ea-9257a226965e",
   "metadata": {},
   "outputs": [
    {
     "data": {
      "text/html": [
       "<div>\n",
       "<style scoped>\n",
       "    .dataframe tbody tr th:only-of-type {\n",
       "        vertical-align: middle;\n",
       "    }\n",
       "\n",
       "    .dataframe tbody tr th {\n",
       "        vertical-align: top;\n",
       "    }\n",
       "\n",
       "    .dataframe thead th {\n",
       "        text-align: right;\n",
       "    }\n",
       "</style>\n",
       "<table border=\"1\" class=\"dataframe\">\n",
       "  <thead>\n",
       "    <tr style=\"text-align: right;\">\n",
       "      <th></th>\n",
       "      <th>Comments</th>\n",
       "      <th>Rating</th>\n",
       "      <th>annotation_id</th>\n",
       "      <th>annotator</th>\n",
       "      <th>created_at</th>\n",
       "      <th>id</th>\n",
       "      <th>lead_time</th>\n",
       "      <th>sentiment</th>\n",
       "      <th>updated_at</th>\n",
       "    </tr>\n",
       "  </thead>\n",
       "  <tbody>\n",
       "    <tr>\n",
       "      <th>0</th>\n",
       "      <td>Excellent mobile good display quality</td>\n",
       "      <td>5.0 out of 5 stars</td>\n",
       "      <td>2</td>\n",
       "      <td>1</td>\n",
       "      <td>2024-05-29T10:47:16.395153Z</td>\n",
       "      <td>2</td>\n",
       "      <td>7.638</td>\n",
       "      <td>1</td>\n",
       "      <td>2024-05-30T09:49:30.065985Z</td>\n",
       "    </tr>\n",
       "    <tr>\n",
       "      <th>1</th>\n",
       "      <td>Good</td>\n",
       "      <td>4.0 out of 5 stars</td>\n",
       "      <td>3</td>\n",
       "      <td>1</td>\n",
       "      <td>2024-05-29T10:48:13.017897Z</td>\n",
       "      <td>3</td>\n",
       "      <td>5.256</td>\n",
       "      <td>1</td>\n",
       "      <td>2024-05-30T09:49:34.349533Z</td>\n",
       "    </tr>\n",
       "    <tr>\n",
       "      <th>2</th>\n",
       "      <td>Do not buy.</td>\n",
       "      <td>1.0 out of 5 stars</td>\n",
       "      <td>4</td>\n",
       "      <td>1</td>\n",
       "      <td>2024-05-29T10:48:21.218017Z</td>\n",
       "      <td>4</td>\n",
       "      <td>9.627</td>\n",
       "      <td>0</td>\n",
       "      <td>2024-05-30T09:49:39.935459Z</td>\n",
       "    </tr>\n",
       "    <tr>\n",
       "      <th>3</th>\n",
       "      <td>worst product ever. don't buy it.</td>\n",
       "      <td>1.0 out of 5 stars</td>\n",
       "      <td>5</td>\n",
       "      <td>1</td>\n",
       "      <td>2024-05-29T10:48:34.913046Z</td>\n",
       "      <td>5</td>\n",
       "      <td>8.903</td>\n",
       "      <td>0</td>\n",
       "      <td>2024-05-30T09:49:46.862767Z</td>\n",
       "    </tr>\n",
       "    <tr>\n",
       "      <th>4</th>\n",
       "      <td>Really nice one\\nThankd</td>\n",
       "      <td>5.0 out of 5 stars</td>\n",
       "      <td>6</td>\n",
       "      <td>1</td>\n",
       "      <td>2024-05-29T10:48:39.838131Z</td>\n",
       "      <td>6</td>\n",
       "      <td>5.236</td>\n",
       "      <td>1</td>\n",
       "      <td>2024-05-30T09:50:18.067817Z</td>\n",
       "    </tr>\n",
       "  </tbody>\n",
       "</table>\n",
       "</div>"
      ],
      "text/plain": [
       "                                Comments              Rating  annotation_id  \\\n",
       "0  Excellent mobile good display quality  5.0 out of 5 stars              2   \n",
       "1                                   Good  4.0 out of 5 stars              3   \n",
       "2                            Do not buy.  1.0 out of 5 stars              4   \n",
       "3      worst product ever. don't buy it.  1.0 out of 5 stars              5   \n",
       "4                Really nice one\\nThankd  5.0 out of 5 stars              6   \n",
       "\n",
       "   annotator                   created_at  id  lead_time  sentiment  \\\n",
       "0          1  2024-05-29T10:47:16.395153Z   2      7.638          1   \n",
       "1          1  2024-05-29T10:48:13.017897Z   3      5.256          1   \n",
       "2          1  2024-05-29T10:48:21.218017Z   4      9.627          0   \n",
       "3          1  2024-05-29T10:48:34.913046Z   5      8.903          0   \n",
       "4          1  2024-05-29T10:48:39.838131Z   6      5.236          1   \n",
       "\n",
       "                    updated_at  \n",
       "0  2024-05-30T09:49:30.065985Z  \n",
       "1  2024-05-30T09:49:34.349533Z  \n",
       "2  2024-05-30T09:49:39.935459Z  \n",
       "3  2024-05-30T09:49:46.862767Z  \n",
       "4  2024-05-30T09:50:18.067817Z  "
      ]
     },
     "execution_count": 299,
     "metadata": {},
     "output_type": "execute_result"
    }
   ],
   "source": [
    "df_labeled_hand"
   ]
  },
  {
   "cell_type": "code",
   "execution_count": 300,
   "id": "0cdac32e-70e7-4650-808f-69160a105c83",
   "metadata": {},
   "outputs": [],
   "source": [
    "# убираем ненужные поля, которые создал разметчик\n",
    "df_train_hand = df_labeled_hand[[\"Rating\", \"Comments\", \"sentiment\"]].copy()"
   ]
  },
  {
   "cell_type": "code",
   "execution_count": 301,
   "id": "7a3e994b-b2dd-4a65-bfec-e681a3090eca",
   "metadata": {},
   "outputs": [
    {
     "name": "stdout",
     "output_type": "stream",
     "text": [
      "               Rating                               Comments  result\n",
      "0  5.0 out of 5 stars  Excellent mobile good display quality       1\n",
      "1  4.0 out of 5 stars                                   Good       1\n",
      "2  1.0 out of 5 stars                            Do not buy.       0\n",
      "3  1.0 out of 5 stars      worst product ever. don't buy it.       0\n",
      "4  5.0 out of 5 stars                Really nice one\\nThankd       1\n"
     ]
    }
   ],
   "source": [
    "# переименуем колонку\n",
    "df_train_hand.rename(columns={\"sentiment\": \"result\"}, inplace=True)\n",
    "print(df_train_hand)\n"
   ]
  },
  {
   "cell_type": "markdown",
   "id": "1ed5fdc9-8b9d-4f1f-8694-dfee9b82ce50",
   "metadata": {},
   "source": [
    "### Задача 4.\n",
    "Объедините данные, размеченные вручную, с данными, размеченными на основе правил. Объедините два подмножества размеченных данных в один набор данных, сохранив при этом соответствующую структуру и целостность.\n"
   ]
  },
  {
   "cell_type": "code",
   "execution_count": 302,
   "id": "67c44685-8c87-41c6-a36a-6d005696100d",
   "metadata": {},
   "outputs": [
    {
     "data": {
      "text/html": [
       "<div>\n",
       "<style scoped>\n",
       "    .dataframe tbody tr th:only-of-type {\n",
       "        vertical-align: middle;\n",
       "    }\n",
       "\n",
       "    .dataframe tbody tr th {\n",
       "        vertical-align: top;\n",
       "    }\n",
       "\n",
       "    .dataframe thead th {\n",
       "        text-align: right;\n",
       "    }\n",
       "</style>\n",
       "<table border=\"1\" class=\"dataframe\">\n",
       "  <thead>\n",
       "    <tr style=\"text-align: right;\">\n",
       "      <th></th>\n",
       "      <th>Comments</th>\n",
       "      <th>result</th>\n",
       "    </tr>\n",
       "  </thead>\n",
       "  <tbody>\n",
       "    <tr>\n",
       "      <th>237</th>\n",
       "      <td>Worst, don't go for it. Performance wise, came...</td>\n",
       "      <td>0</td>\n",
       "    </tr>\n",
       "    <tr>\n",
       "      <th>255</th>\n",
       "      <td>excellent this redmi 6 Pro so nice product of ...</td>\n",
       "      <td>1</td>\n",
       "    </tr>\n",
       "    <tr>\n",
       "      <th>101</th>\n",
       "      <td>One of best mobile compare to nokia 6 1 plus</td>\n",
       "      <td>1</td>\n",
       "    </tr>\n",
       "    <tr>\n",
       "      <th>252</th>\n",
       "      <td>Osm product\\nAmazon is better then flipkart I ...</td>\n",
       "      <td>1</td>\n",
       "    </tr>\n",
       "    <tr>\n",
       "      <th>190</th>\n",
       "      <td>Nice mobile</td>\n",
       "      <td>1</td>\n",
       "    </tr>\n",
       "  </tbody>\n",
       "</table>\n",
       "</div>"
      ],
      "text/plain": [
       "                                              Comments  result\n",
       "237  Worst, don't go for it. Performance wise, came...       0\n",
       "255  excellent this redmi 6 Pro so nice product of ...       1\n",
       "101       One of best mobile compare to nokia 6 1 plus       1\n",
       "252  Osm product\\nAmazon is better then flipkart I ...       1\n",
       "190                                        Nice mobile       1"
      ]
     },
     "execution_count": 302,
     "metadata": {},
     "output_type": "execute_result"
    }
   ],
   "source": [
    "frames = [df_train_auto, df_train_hand]\n",
    "df_full = pd.concat(frames)\n",
    "df_full = df_full[[\"Comments\", \"result\"]]\n",
    "df_full.head()"
   ]
  },
  {
   "cell_type": "code",
   "execution_count": 303,
   "id": "0a5f125d-0eaf-4b43-80a1-fad2745f1e15",
   "metadata": {},
   "outputs": [
    {
     "data": {
      "text/plain": [
       "array([[<Axes: title={'center': 'result'}>]], dtype=object)"
      ]
     },
     "execution_count": 303,
     "metadata": {},
     "output_type": "execute_result"
    },
    {
     "data": {
      "image/png": "[encoded data removed]",
      "text/plain": [
       "<Figure size 700x200 with 1 Axes>"
      ]
     },
     "metadata": {},
     "output_type": "display_data"
    }
   ],
   "source": [
    "df_full.hist(figsize=(7, 2), bins=50, xlabelsize=8, ylabelsize=8)"
   ]
  },
  {
   "cell_type": "markdown",
   "id": "cb27c825-8c02-4d0a-8412-b9c9858be82b",
   "metadata": {},
   "source": [
    "#### Есть дисбаланс по значениям"
   ]
  },
  {
   "cell_type": "markdown",
   "id": "6339f25c-59c5-49bd-ab70-5ef0dec6d51e",
   "metadata": {},
   "source": [
    "### Задача 5.\n",
    "\n",
    "Обучите модель машинного обучения, используя объединенный набор размеченных данных. Разделите датасет на обучающий и тестовый наборы и используйте обучающий набор для обучения модели."
   ]
  },
  {
   "cell_type": "code",
   "execution_count": 304,
   "id": "f74dc9ee-33ed-4be4-bb75-cb24d69d47b8",
   "metadata": {},
   "outputs": [],
   "source": [
    "df_train, df_test = train_test_split(df_full, test_size=0.3, random_state=77)"
   ]
  },
  {
   "cell_type": "code",
   "execution_count": 316,
   "id": "98586e20-d5fa-471b-9eae-9cf774a03fe1",
   "metadata": {},
   "outputs": [],
   "source": [
    "from sklearn.feature_extraction.text import TfidfVectorizer\n",
    "from sklearn.linear_model import LogisticRegression\n",
    "from sklearn.model_selection import train_test_split\n",
    "from sklearn.metrics import f1_score,accuracy_score, classification_report\n",
    "from sklearn.utils import shuffle"
   ]
  },
  {
   "cell_type": "code",
   "execution_count": 306,
   "id": "f14dd1a1-313c-4ba7-bd3e-dc87184c5af2",
   "metadata": {},
   "outputs": [],
   "source": [
    "def train_model(labeled_reviews):\n",
    "# Векторизация текстовых данных с помощью TF-IDF\n",
    "    vectorizer = TfidfVectorizer()\n",
    "    X = vectorizer.fit_transform(labeled_reviews[\"Comments\"])\n",
    "    y = labeled_reviews[\"result\"]\n",
    "    # Обучение модели логистической регрессии на размеченных данных\n",
    "    model = LogisticRegression()\n",
    "    model.fit(X, y)\n",
    "    return model, vectorizer"
   ]
  },
  {
   "cell_type": "code",
   "execution_count": 307,
   "id": "076d744d-ba08-4ece-ab5a-8e86eb7666af",
   "metadata": {},
   "outputs": [],
   "source": [
    "# X = df_train[\"Comments\"]\n",
    "# y = df_train[\"result\"]\n",
    "model, vectorizer = train_model(df_train)"
   ]
  },
  {
   "cell_type": "markdown",
   "id": "4919d0f5-82d4-42e6-b430-ea53c1affae9",
   "metadata": {},
   "source": [
    "### Задача 6.\n",
    "Оценить эффективность обученной модели на тестовом датасете. Используйте подходящие метрики оценки. Интерпретируйте результаты и проанализируйте эффективность модели в решении задачи разметки."
   ]
  },
  {
   "cell_type": "code",
   "execution_count": 308,
   "id": "83d3828c-83cd-4ca4-9dd1-c98d8421bdec",
   "metadata": {},
   "outputs": [],
   "source": [
    "X_test = vectorizer.transform(df_test[\"Comments\"])\n",
    "y_test_predicted = model.predict(X_test)"
   ]
  },
  {
   "cell_type": "code",
   "execution_count": 309,
   "id": "7b20b312-8c87-4993-b0fc-e9ce76602247",
   "metadata": {},
   "outputs": [
    {
     "data": {
      "text/plain": [
       "55     0\n",
       "265    1\n",
       "154    1\n",
       "192    1\n",
       "113    1\n",
       "      ..\n",
       "175    1\n",
       "253    1\n",
       "3      0\n",
       "229    0\n",
       "189    1\n",
       "Name: result, Length: 67, dtype: int64"
      ]
     },
     "execution_count": 309,
     "metadata": {},
     "output_type": "execute_result"
    }
   ],
   "source": [
    "df_test[\"result\"]"
   ]
  },
  {
   "cell_type": "code",
   "execution_count": 310,
   "id": "4ac849ac-1b2f-4f0d-ae15-841c2b9c81d3",
   "metadata": {},
   "outputs": [
    {
     "data": {
      "text/plain": [
       "array([1, 1, 1, 1, 1, 1, 1, 1, 1, 1, 1, 1, 1, 1, 1, 1, 1, 1, 1, 1, 1, 1,\n",
       "       1, 1, 1, 1, 1, 1, 1, 1, 1, 1, 1, 1, 1, 0, 1, 1, 1, 1, 1, 1, 1, 1,\n",
       "       1, 1, 1, 1, 1, 1, 1, 1, 1, 1, 1, 1, 1, 1, 1, 1, 1, 1, 1, 1, 1, 1,\n",
       "       1])"
      ]
     },
     "execution_count": 310,
     "metadata": {},
     "output_type": "execute_result"
    }
   ],
   "source": [
    "y_test_predicted"
   ]
  },
  {
   "cell_type": "code",
   "execution_count": 311,
   "id": "8e3c7c05-1985-4f01-9ce1-57bceffa4f70",
   "metadata": {},
   "outputs": [
    {
     "name": "stdout",
     "output_type": "stream",
     "text": [
      "0.8421052631578947\n"
     ]
    }
   ],
   "source": [
    "f1 = f1_score(df_test[\"result\"], y_test_predicted)\n",
    "print(f1)"
   ]
  },
  {
   "cell_type": "code",
   "execution_count": 315,
   "id": "e6fe1580-acb1-4cd7-874e-6df4b0a4912b",
   "metadata": {},
   "outputs": [
    {
     "name": "stdout",
     "output_type": "stream",
     "text": [
      "0.7313432835820896\n"
     ]
    }
   ],
   "source": [
    "acc_score = accuracy_score(df_test[\"result\"], y_test_predicted)\n",
    "print(acc_score)"
   ]
  },
  {
   "cell_type": "code",
   "execution_count": 317,
   "id": "37261818-ba25-45cf-9639-399753ceb78e",
   "metadata": {},
   "outputs": [
    {
     "name": "stdout",
     "output_type": "stream",
     "text": [
      "              precision    recall  f1-score   support\n",
      "\n",
      "           0       1.00      0.05      0.10        19\n",
      "           1       0.73      1.00      0.84        48\n",
      "\n",
      "    accuracy                           0.73        67\n",
      "   macro avg       0.86      0.53      0.47        67\n",
      "weighted avg       0.80      0.73      0.63        67\n",
      "\n"
     ]
    }
   ],
   "source": [
    "class_score = classification_report(df_test[\"result\"], y_test_predicted)\n",
    "print(class_score)"
   ]
  },
  {
   "cell_type": "markdown",
   "id": "5d448a22-12cb-44d8-89f0-9b6a5eb5fbb9",
   "metadata": {},
   "source": [
    "#### точность предсказания очень низкая, т.к. выборка очень маленькая и при этом несбалансированная."
   ]
  },
  {
   "cell_type": "code",
   "execution_count": null,
   "id": "fd0cde7b-de0b-4cc6-a98e-f8e3dd3a0e1e",
   "metadata": {},
   "outputs": [],
   "source": []
  }
 ],
 "metadata": {
  "kernelspec": {
   "display_name": "Python 3 (ipykernel)",
   "language": "python",
   "name": "python3"
  },
  "language_info": {
   "codemirror_mode": {
    "name": "ipython",
    "version": 3
   },
   "file_extension": ".py",
   "mimetype": "text/x-python",
   "name": "python",
   "nbconvert_exporter": "python",
   "pygments_lexer": "ipython3",
   "version": "3.10.10"
  }
 },
 "nbformat": 4,
 "nbformat_minor": 5
}
